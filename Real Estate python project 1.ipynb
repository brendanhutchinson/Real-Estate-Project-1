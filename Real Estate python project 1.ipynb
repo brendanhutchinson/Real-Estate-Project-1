{
 "cells": [
  {
   "cell_type": "code",
   "execution_count": 413,
   "id": "eb65e132",
   "metadata": {},
   "outputs": [],
   "source": [
    "import csv as csv\n",
    "import pandas as pd\n",
    "import numpy as np\n",
    "from matplotlib import pyplot as plt\n",
    "plt.style.use('ggplot')"
   ]
  },
  {
   "cell_type": "markdown",
   "id": "029c45af",
   "metadata": {},
   "source": [
    "Alex added this"
   ]
  },
  {
   "cell_type": "code",
   "execution_count": 414,
   "id": "628b36e6",
   "metadata": {},
   "outputs": [],
   "source": [
    "pd.set_option(\"display.max_rows\", 10, \"display.max_columns\", 20)"
   ]
  },
  {
   "cell_type": "code",
   "execution_count": 415,
   "id": "cd598deb",
   "metadata": {},
   "outputs": [],
   "source": [
    "df = pd.read_csv('./City_Zhvi_SingleFamilyResidence.csv')"
   ]
  },
  {
   "cell_type": "code",
   "execution_count": 416,
   "id": "ca070dce",
   "metadata": {
    "scrolled": false
   },
   "outputs": [],
   "source": [
    "df1 = df.drop(df.iloc[:,9:299] ,axis =1)"
   ]
  },
  {
   "cell_type": "code",
   "execution_count": 417,
   "id": "9abc6110",
   "metadata": {},
   "outputs": [],
   "source": [
    "df1 = df1.sort_values(['2020-03-31', 'SizeRank'] ,ascending=True)"
   ]
  },
  {
   "cell_type": "code",
   "execution_count": 418,
   "id": "029704ab",
   "metadata": {},
   "outputs": [],
   "source": [
    "df1 = df1.drop(['RegionID', 'SizeRank', 'StateName', 'Metro', 'Unnamed: 0', 'RegionType'] ,axis = 1)"
   ]
  },
  {
   "cell_type": "code",
   "execution_count": 419,
   "id": "11252ef4",
   "metadata": {
    "scrolled": true
   },
   "outputs": [],
   "source": [
    "df1 = df1.rename(columns = {'2020-03-31':'median_home_price_2020'})"
   ]
  },
  {
   "cell_type": "code",
   "execution_count": 420,
   "id": "5f7818e5",
   "metadata": {},
   "outputs": [
    {
     "data": {
      "text/plain": [
       "(12413, 111)"
      ]
     },
     "execution_count": 420,
     "metadata": {},
     "output_type": "execute_result"
    }
   ],
   "source": [
    "df = pd.read_csv('City_Zri_SingleFamilyResidenceRental.csv')\n",
    "df.shape"
   ]
  },
  {
   "cell_type": "code",
   "execution_count": 421,
   "id": "45b5a558",
   "metadata": {},
   "outputs": [],
   "source": [
    "df = df.drop(df.iloc[:,7:110] ,axis =1)"
   ]
  },
  {
   "cell_type": "code",
   "execution_count": 422,
   "id": "96e96a48",
   "metadata": {},
   "outputs": [],
   "source": [
    "df2 = df.sort_values('2019-06', ascending=True)"
   ]
  },
  {
   "cell_type": "code",
   "execution_count": 423,
   "id": "1590387f",
   "metadata": {},
   "outputs": [],
   "source": [
    "df2 = df2.drop(['SizeRank', 'RegionID', 'Metro', 'Unnamed: 0'], axis = 1)"
   ]
  },
  {
   "cell_type": "code",
   "execution_count": 424,
   "id": "6f058275",
   "metadata": {},
   "outputs": [],
   "source": [
    "df2 = df2.rename(columns = {'2019-06':'median_rental_price_2019'})"
   ]
  },
  {
   "cell_type": "code",
   "execution_count": 425,
   "id": "fa52780c",
   "metadata": {},
   "outputs": [],
   "source": [
    "df3 = pd.merge(df1, df2, on = ['State', 'RegionName'], how='inner')"
   ]
  },
  {
   "cell_type": "code",
   "execution_count": 426,
   "id": "cfe13ebf",
   "metadata": {},
   "outputs": [],
   "source": [
    "df3 = df3.drop('CountyName_y', axis=1).rename({'CountyName_x': 'CountyName'}, axis=1)"
   ]
  },
  {
   "cell_type": "code",
   "execution_count": 427,
   "id": "5b669bb7",
   "metadata": {},
   "outputs": [],
   "source": [
    "df3 = df3.sort_values('median_rental_price_2019',ascending = False)"
   ]
  },
  {
   "cell_type": "code",
   "execution_count": 428,
   "id": "f6c55a3c",
   "metadata": {},
   "outputs": [],
   "source": [
    "def min_rent_calc(home_value):\n",
    "    if home_value >= 1000000:\n",
    "        return home_value * .005\n",
    "    else:\n",
    "        return home_value * .01"
   ]
  },
  {
   "cell_type": "code",
   "execution_count": 429,
   "id": "fe340d61",
   "metadata": {},
   "outputs": [
    {
     "data": {
      "text/plain": [
       "11227    23995.985\n",
       "11229    27621.520\n",
       "11215    16037.930\n",
       "11228    27115.640\n",
       "11230    33314.850\n",
       "           ...    \n",
       "3          246.050\n",
       "29         314.290\n",
       "39         346.770\n",
       "9          291.570\n",
       "13         309.340\n",
       "Name: median_home_price_2020, Length: 11231, dtype: float64"
      ]
     },
     "execution_count": 429,
     "metadata": {},
     "output_type": "execute_result"
    }
   ],
   "source": [
    "# Set equal to min_rent_price column\n",
    "df3['median_home_price_2020'].apply(min_rent_calc)"
   ]
  },
  {
   "cell_type": "code",
   "execution_count": 430,
   "id": "0197ee10",
   "metadata": {},
   "outputs": [],
   "source": [
    "df3['min_monthly_rent'] = df3.iloc[:,3]*.01"
   ]
  },
  {
   "cell_type": "code",
   "execution_count": 431,
   "id": "788cfc54",
   "metadata": {},
   "outputs": [
    {
     "data": {
      "text/html": [
       "<div>\n",
       "<style scoped>\n",
       "    .dataframe tbody tr th:only-of-type {\n",
       "        vertical-align: middle;\n",
       "    }\n",
       "\n",
       "    .dataframe tbody tr th {\n",
       "        vertical-align: top;\n",
       "    }\n",
       "\n",
       "    .dataframe thead th {\n",
       "        text-align: right;\n",
       "    }\n",
       "</style>\n",
       "<table border=\"1\" class=\"dataframe\">\n",
       "  <thead>\n",
       "    <tr style=\"text-align: right;\">\n",
       "      <th></th>\n",
       "      <th>RegionName</th>\n",
       "      <th>State</th>\n",
       "      <th>CountyName</th>\n",
       "      <th>median_home_price_2020</th>\n",
       "      <th>median_rental_price_2019</th>\n",
       "      <th>min_monthly_rent</th>\n",
       "    </tr>\n",
       "  </thead>\n",
       "  <tbody>\n",
       "    <tr>\n",
       "      <th>5827</th>\n",
       "      <td>Belle Haven</td>\n",
       "      <td>VA</td>\n",
       "      <td>Accomack County</td>\n",
       "      <td>213255.0</td>\n",
       "      <td>3055</td>\n",
       "      <td>2132.55</td>\n",
       "    </tr>\n",
       "    <tr>\n",
       "      <th>1030</th>\n",
       "      <td>Salisbury</td>\n",
       "      <td>NY</td>\n",
       "      <td>Herkimer County</td>\n",
       "      <td>96913.0</td>\n",
       "      <td>3046</td>\n",
       "      <td>969.13</td>\n",
       "    </tr>\n",
       "    <tr>\n",
       "      <th>5738</th>\n",
       "      <td>Northampton</td>\n",
       "      <td>PA</td>\n",
       "      <td>Northampton County</td>\n",
       "      <td>210775.0</td>\n",
       "      <td>2538</td>\n",
       "      <td>2107.75</td>\n",
       "    </tr>\n",
       "    <tr>\n",
       "      <th>540</th>\n",
       "      <td>Rose Hill</td>\n",
       "      <td>VA</td>\n",
       "      <td>Lee County</td>\n",
       "      <td>79915.0</td>\n",
       "      <td>2503</td>\n",
       "      <td>799.15</td>\n",
       "    </tr>\n",
       "    <tr>\n",
       "      <th>1376</th>\n",
       "      <td>Montgomery</td>\n",
       "      <td>PA</td>\n",
       "      <td>Lycoming County</td>\n",
       "      <td>106525.0</td>\n",
       "      <td>2466</td>\n",
       "      <td>1065.25</td>\n",
       "    </tr>\n",
       "    <tr>\n",
       "      <th>...</th>\n",
       "      <td>...</td>\n",
       "      <td>...</td>\n",
       "      <td>...</td>\n",
       "      <td>...</td>\n",
       "      <td>...</td>\n",
       "      <td>...</td>\n",
       "    </tr>\n",
       "    <tr>\n",
       "      <th>3</th>\n",
       "      <td>Flint</td>\n",
       "      <td>MI</td>\n",
       "      <td>Genesee County</td>\n",
       "      <td>24605.0</td>\n",
       "      <td>604</td>\n",
       "      <td>246.05</td>\n",
       "    </tr>\n",
       "    <tr>\n",
       "      <th>29</th>\n",
       "      <td>West End-Cobb Town</td>\n",
       "      <td>AL</td>\n",
       "      <td>Calhoun County</td>\n",
       "      <td>31429.0</td>\n",
       "      <td>603</td>\n",
       "      <td>314.29</td>\n",
       "    </tr>\n",
       "    <tr>\n",
       "      <th>39</th>\n",
       "      <td>Taft</td>\n",
       "      <td>OK</td>\n",
       "      <td>Muskogee County</td>\n",
       "      <td>34677.0</td>\n",
       "      <td>598</td>\n",
       "      <td>346.77</td>\n",
       "    </tr>\n",
       "    <tr>\n",
       "      <th>9</th>\n",
       "      <td>East Conemaugh</td>\n",
       "      <td>PA</td>\n",
       "      <td>Cambria County</td>\n",
       "      <td>29157.0</td>\n",
       "      <td>597</td>\n",
       "      <td>291.57</td>\n",
       "    </tr>\n",
       "    <tr>\n",
       "      <th>13</th>\n",
       "      <td>Johnstown</td>\n",
       "      <td>PA</td>\n",
       "      <td>Cambria County</td>\n",
       "      <td>30934.0</td>\n",
       "      <td>592</td>\n",
       "      <td>309.34</td>\n",
       "    </tr>\n",
       "  </tbody>\n",
       "</table>\n",
       "<p>961 rows × 6 columns</p>\n",
       "</div>"
      ],
      "text/plain": [
       "              RegionName State          CountyName  median_home_price_2020  \\\n",
       "5827         Belle Haven    VA     Accomack County                213255.0   \n",
       "1030           Salisbury    NY     Herkimer County                 96913.0   \n",
       "5738         Northampton    PA  Northampton County                210775.0   \n",
       "540            Rose Hill    VA          Lee County                 79915.0   \n",
       "1376          Montgomery    PA     Lycoming County                106525.0   \n",
       "...                  ...   ...                 ...                     ...   \n",
       "3                  Flint    MI      Genesee County                 24605.0   \n",
       "29    West End-Cobb Town    AL      Calhoun County                 31429.0   \n",
       "39                  Taft    OK     Muskogee County                 34677.0   \n",
       "9         East Conemaugh    PA      Cambria County                 29157.0   \n",
       "13             Johnstown    PA      Cambria County                 30934.0   \n",
       "\n",
       "      median_rental_price_2019  min_monthly_rent  \n",
       "5827                      3055           2132.55  \n",
       "1030                      3046            969.13  \n",
       "5738                      2538           2107.75  \n",
       "540                       2503            799.15  \n",
       "1376                      2466           1065.25  \n",
       "...                        ...               ...  \n",
       "3                          604            246.05  \n",
       "29                         603            314.29  \n",
       "39                         598            346.77  \n",
       "9                          597            291.57  \n",
       "13                         592            309.34  \n",
       "\n",
       "[961 rows x 6 columns]"
      ]
     },
     "execution_count": 431,
     "metadata": {},
     "output_type": "execute_result"
    }
   ],
   "source": [
    "df3[df3['median_rental_price_2019'] > df3['min_monthly_rent']]"
   ]
  },
  {
   "cell_type": "code",
   "execution_count": 432,
   "id": "43117026",
   "metadata": {},
   "outputs": [],
   "source": [
    "df3['profit'] = df3['min_monthly_rent'] - df3['median_rental_price_2019']"
   ]
  },
  {
   "cell_type": "code",
   "execution_count": 433,
   "id": "ea8bf10e",
   "metadata": {},
   "outputs": [],
   "source": [
    "df3['Region'] = [region_name + ', ' + state for region_name, state in zip(df3['RegionName'], df3['State'])] "
   ]
  },
  {
   "cell_type": "code",
   "execution_count": 449,
   "id": "db914d8a",
   "metadata": {},
   "outputs": [
    {
     "data": {
      "text/plain": [
       "<AxesSubplot:xlabel='Region'>"
      ]
     },
     "execution_count": 449,
     "metadata": {},
     "output_type": "execute_result"
    },
    {
     "data": {
      "image/png": "[encoded data removed]",
      "text/plain": [
       "<Figure size 432x288 with 1 Axes>"
      ]
     },
     "metadata": {},
     "output_type": "display_data"
    }
   ],
   "source": [
    "df3[df3.profit > 0].sort_values('profit', ascending=False).head(10).plot(kind='bar', x='Region', y='profit',color=['C0', 'C1', 'C2', 'C3', 'C4','b','g','y','k','C5'])"
   ]
  },
  {
   "cell_type": "code",
   "execution_count": 435,
   "id": "28cc9c23",
   "metadata": {},
   "outputs": [
    {
     "data": {
      "text/plain": [
       "<AxesSubplot:xlabel='State'>"
      ]
     },
     "execution_count": 435,
     "metadata": {},
     "output_type": "execute_result"
    },
    {
     "data": {
      "image/png": "[encoded data removed]",
      "text/plain": [
       "<Figure size 432x288 with 1 Axes>"
      ]
     },
     "metadata": {},
     "output_type": "display_data"
    }
   ],
   "source": [
    "df3[df3.median_home_price_2020 < 500000].groupby('State').head(10).sort_values('profit', ascending=False).head(10).plot(kind = 'bar',x='State', y='profit',color=['C0', 'C1', 'C2', 'C3', 'C4','b','g','y','k','C5'])"
   ]
  },
  {
   "cell_type": "code",
   "execution_count": 450,
   "id": "8c8a2421",
   "metadata": {
    "scrolled": true
   },
   "outputs": [
    {
     "data": {
      "text/plain": [
       "<AxesSubplot:xlabel='State'>"
      ]
     },
     "execution_count": 450,
     "metadata": {},
     "output_type": "execute_result"
    },
    {
     "data": {
      "image/png": "[encoded data removed]",
      "text/plain": [
       "<Figure size 432x288 with 1 Axes>"
      ]
     },
     "metadata": {},
     "output_type": "display_data"
    }
   ],
   "source": [
    "df3.groupby(['State'])['profit'].mean ().sort_values(ascending = False).head(10).plot(kind='bar', x='State', y='profit',color=['C0', 'C1', 'C2', 'C3', 'C4','b',  'g', 'y', 'k'])"
   ]
  },
  {
   "cell_type": "code",
   "execution_count": 437,
   "id": "4598eb77",
   "metadata": {},
   "outputs": [
    {
     "data": {
      "text/plain": [
       "<AxesSubplot:xlabel='Region'>"
      ]
     },
     "execution_count": 437,
     "metadata": {},
     "output_type": "execute_result"
    },
    {
     "data": {
      "image/png": "[encoded data removed]",
      "text/plain": [
       "<Figure size 432x288 with 1 Axes>"
      ]
     },
     "metadata": {},
     "output_type": "display_data"
    }
   ],
   "source": [
    "df3[df3.median_home_price_2020 < 500000].groupby('State').head(10).sort_values('profit', ascending=False).head(10).plot(kind = 'bar',x='Region', y='profit',color=['C0', 'C1', 'C2', 'C3', 'C4','b','g','y','k','C5'])"
   ]
  },
  {
   "cell_type": "code",
   "execution_count": 438,
   "id": "ed41bfe0",
   "metadata": {},
   "outputs": [],
   "source": [
    "interest = 0.035 / 12               \n",
    "thirty_year = 30 * 12 \n",
    "fifteen_year = 15 * 12 \n",
    "price = 737939.0  "
   ]
  },
  {
   "cell_type": "code",
   "execution_count": 439,
   "id": "bfc8e7bf",
   "metadata": {},
   "outputs": [],
   "source": [
    "def MortgagePayment (p,i,n):\n",
    "    return p*(i*(1 + i)**n)/((1 + i)**n-1)"
   ]
  },
  {
   "cell_type": "code",
   "execution_count": 440,
   "id": "773ab767",
   "metadata": {},
   "outputs": [
    {
     "data": {
      "text/plain": [
       "21550.539185980422"
      ]
     },
     "execution_count": 440,
     "metadata": {},
     "output_type": "execute_result"
    }
   ],
   "source": [
    "MortgagePayment(4799197.0,interest,thirty_year)"
   ]
  },
  {
   "cell_type": "code",
   "execution_count": 441,
   "id": "4f6f36db",
   "metadata": {},
   "outputs": [],
   "source": [
    "price = df3['median_home_price_2020']"
   ]
  },
  {
   "cell_type": "code",
   "execution_count": 442,
   "id": "16c04622",
   "metadata": {},
   "outputs": [],
   "source": [
    "df3['monthly_Mortgage_payment'] = MortgagePayment(price, interest, thirty_year)"
   ]
  },
  {
   "cell_type": "code",
   "execution_count": 453,
   "id": "3af1cc6b",
   "metadata": {},
   "outputs": [],
   "source": [
    "df3['Montly_Mortgate_Profit'] = df3.monthly_Mortgage_payment - df3.median_rental_price_2019 + 4000"
   ]
  },
  {
   "cell_type": "code",
   "execution_count": 455,
   "id": "ddbe07db",
   "metadata": {
    "scrolled": true
   },
   "outputs": [
    {
     "data": {
      "text/plain": [
       "<AxesSubplot:xlabel='State'>"
      ]
     },
     "execution_count": 455,
     "metadata": {},
     "output_type": "execute_result"
    },
    {
     "data": {
      "image/png": "[encoded data removed]",
      "text/plain": [
       "<Figure size 432x288 with 1 Axes>"
      ]
     },
     "metadata": {},
     "output_type": "display_data"
    }
   ],
   "source": [
    "df3.groupby(['State'])['Montly_Mortgate_Profit'].mean ().sort_values(ascending = False).head(10).plot(kind='bar', x='State', y='profit',color=['C0', 'C1', 'C2', 'C3', 'C4','b',  'g', 'y', 'k'])"
   ]
  },
  {
   "cell_type": "code",
   "execution_count": 456,
   "id": "538aff68",
   "metadata": {},
   "outputs": [
    {
     "data": {
      "text/plain": [
       "'C:\\\\Users\\\\BrendanHutchinson\\\\git_proj\\\\project_1'"
      ]
     },
     "execution_count": 456,
     "metadata": {},
     "output_type": "execute_result"
    }
   ],
   "source": [
    "pwd"
   ]
  },
  {
   "cell_type": "code",
   "execution_count": 457,
   "id": "3fa892ae",
   "metadata": {},
   "outputs": [
    {
     "name": "stdout",
     "output_type": "stream",
     "text": [
      "C:\\Users\\BrendanHutchinson\\Python-Project-1\n"
     ]
    }
   ],
   "source": [
    "cd C:\\Users\\BrendanHutchinson\\Python-Project-1"
   ]
  },
  {
   "cell_type": "code",
   "execution_count": 465,
   "id": "d1a065b8",
   "metadata": {},
   "outputs": [
    {
     "ename": "SyntaxError",
     "evalue": "(unicode error) 'unicodeescape' codec can't decode bytes in position 2-3: truncated \\UXXXXXXXX escape (<ipython-input-465-840a02a9c690>, line 1)",
     "output_type": "error",
     "traceback": [
      "\u001b[1;36m  File \u001b[1;32m\"<ipython-input-465-840a02a9c690>\"\u001b[1;36m, line \u001b[1;32m1\u001b[0m\n\u001b[1;33m    c.NotebookApp.notebook_dir = 'C:\\Users\\BrendanHutchinson\\Python-Project-1'\u001b[0m\n\u001b[1;37m                                 ^\u001b[0m\n\u001b[1;31mSyntaxError\u001b[0m\u001b[1;31m:\u001b[0m (unicode error) 'unicodeescape' codec can't decode bytes in position 2-3: truncated \\UXXXXXXXX escape\n"
     ]
    }
   ],
   "source": [
    "c.NotebookApp.notebook_dir = 'C:\\Users\\BrendanHutchinson\\Python-Project-1'"
   ]
  },
  {
   "cell_type": "code",
   "execution_count": null,
   "id": "73c34ddc",
   "metadata": {},
   "outputs": [],
   "source": []
  }
 ],
 "metadata": {
  "kernelspec": {
   "display_name": "Python 3",
   "language": "python",
   "name": "python3"
  },
  "language_info": {
   "codemirror_mode": {
    "name": "ipython",
    "version": 3
   },
   "file_extension": ".py",
   "mimetype": "text/x-python",
   "name": "python",
   "nbconvert_exporter": "python",
   "pygments_lexer": "ipython3",
   "version": "3.8.8"
  }
 },
 "nbformat": 4,
 "nbformat_minor": 5
}
