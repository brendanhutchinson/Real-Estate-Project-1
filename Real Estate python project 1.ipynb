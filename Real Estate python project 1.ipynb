{
 "cells": [
  {
   "cell_type": "code",
   "execution_count": 1,
   "id": "eb65e132",
   "metadata": {},
   "outputs": [],
   "source": [
    "import csv as csv\n",
    "import pandas as pd\n",
    "import numpy as np\n",
    "from matplotlib import pyplot as plt\n",
    "plt.style.use('ggplot')"
   ]
  },
  {
   "cell_type": "code",
   "execution_count": 146,
   "id": "ec21c990",
   "metadata": {},
   "outputs": [
    {
     "data": {
      "text/plain": [
       "'C:\\\\Users\\\\BrendanHutchinson\\\\NYCDSA\\\\Projects\\\\Real-Estate-Project-1'"
      ]
     },
     "execution_count": 146,
     "metadata": {},
     "output_type": "execute_result"
    }
   ],
   "source": [
    "pwd"
   ]
  },
  {
   "cell_type": "code",
   "execution_count": 147,
   "id": "628b36e6",
   "metadata": {},
   "outputs": [],
   "source": [
    "pd.set_option(\"display.max_rows\", 10, \"display.max_columns\", 20)"
   ]
  },
  {
   "cell_type": "code",
   "execution_count": 148,
   "id": "cd598deb",
   "metadata": {},
   "outputs": [],
   "source": [
    "df = pd.read_csv('./data/City_Zhvi_SingleFamilyResidence.csv')"
   ]
  },
  {
   "cell_type": "code",
   "execution_count": 149,
   "id": "ca070dce",
   "metadata": {
    "scrolled": false
   },
   "outputs": [],
   "source": [
    "df1 = df.drop(df.iloc[:,9:299] ,axis =1)"
   ]
  },
  {
   "cell_type": "code",
   "execution_count": 150,
   "id": "9abc6110",
   "metadata": {},
   "outputs": [],
   "source": [
    "df1 = df1.sort_values(['2020-03-31', 'SizeRank'] ,ascending=True)"
   ]
  },
  {
   "cell_type": "code",
   "execution_count": 151,
   "id": "029704ab",
   "metadata": {},
   "outputs": [],
   "source": [
    "df1 = df1.drop(['RegionID', 'SizeRank', 'StateName', 'Metro', 'Unnamed: 0', 'RegionType'] ,axis = 1)"
   ]
  },
  {
   "cell_type": "code",
   "execution_count": 152,
   "id": "11252ef4",
   "metadata": {
    "scrolled": true
   },
   "outputs": [],
   "source": [
    "df1 = df1.rename(columns = {'2020-03-31':'median_home_price_2020'})"
   ]
  },
  {
   "cell_type": "code",
   "execution_count": 153,
   "id": "5f7818e5",
   "metadata": {},
   "outputs": [
    {
     "data": {
      "text/plain": [
       "(12413, 111)"
      ]
     },
     "execution_count": 153,
     "metadata": {},
     "output_type": "execute_result"
    }
   ],
   "source": [
    "df = pd.read_csv('./data/City_Zri_SingleFamilyResidenceRental.csv')\n",
    "df.shape"
   ]
  },
  {
   "cell_type": "code",
   "execution_count": 154,
   "id": "45b5a558",
   "metadata": {},
   "outputs": [],
   "source": [
    "df = df.drop(df.iloc[:,7:110] ,axis =1)"
   ]
  },
  {
   "cell_type": "code",
   "execution_count": 155,
   "id": "96e96a48",
   "metadata": {},
   "outputs": [],
   "source": [
    "df2 = df.sort_values('2019-06', ascending=True)"
   ]
  },
  {
   "cell_type": "code",
   "execution_count": 156,
   "id": "1590387f",
   "metadata": {},
   "outputs": [],
   "source": [
    "df2 = df2.drop(['SizeRank', 'RegionID', 'Metro', 'Unnamed: 0'], axis = 1)"
   ]
  },
  {
   "cell_type": "code",
   "execution_count": 157,
   "id": "6f058275",
   "metadata": {},
   "outputs": [],
   "source": [
    "df2 = df2.rename(columns = {'2019-06':'median_rental_price_2019'})"
   ]
  },
  {
   "cell_type": "code",
   "execution_count": 158,
   "id": "fa52780c",
   "metadata": {},
   "outputs": [],
   "source": [
    "df3 = pd.merge(df1, df2, on = ['State', 'RegionName'], how='inner')"
   ]
  },
  {
   "cell_type": "code",
   "execution_count": 159,
   "id": "cfe13ebf",
   "metadata": {},
   "outputs": [],
   "source": [
    "df3 = df3.drop('CountyName_y', axis=1).rename({'CountyName_x': 'CountyName'}, axis=1)"
   ]
  },
  {
   "cell_type": "code",
   "execution_count": 160,
   "id": "5b669bb7",
   "metadata": {},
   "outputs": [],
   "source": [
    "df3 = df3.sort_values('median_rental_price_2019',ascending = False)"
   ]
  },
  {
   "cell_type": "code",
   "execution_count": 161,
   "id": "f6c55a3c",
   "metadata": {},
   "outputs": [],
   "source": [
    "def min_rent_calc(home_value):\n",
    "    if home_value >= 3000000:\n",
    "        return home_value * .005\n",
    "    else:\n",
    "        return home_value * .01"
   ]
  },
  {
   "cell_type": "code",
   "execution_count": 162,
   "id": "fe340d61",
   "metadata": {},
   "outputs": [],
   "source": [
    "# Set equal to min_rent_price column\n",
    "df3['min_monthly_rent'] = df3['median_home_price_2020'].apply(min_rent_calc)"
   ]
  },
  {
   "cell_type": "code",
   "execution_count": 163,
   "id": "788cfc54",
   "metadata": {},
   "outputs": [
    {
     "data": {
      "text/html": [
       "<div>\n",
       "<style scoped>\n",
       "    .dataframe tbody tr th:only-of-type {\n",
       "        vertical-align: middle;\n",
       "    }\n",
       "\n",
       "    .dataframe tbody tr th {\n",
       "        vertical-align: top;\n",
       "    }\n",
       "\n",
       "    .dataframe thead th {\n",
       "        text-align: right;\n",
       "    }\n",
       "</style>\n",
       "<table border=\"1\" class=\"dataframe\">\n",
       "  <thead>\n",
       "    <tr style=\"text-align: right;\">\n",
       "      <th></th>\n",
       "      <th>RegionName</th>\n",
       "      <th>State</th>\n",
       "      <th>CountyName</th>\n",
       "      <th>median_home_price_2020</th>\n",
       "      <th>median_rental_price_2019</th>\n",
       "      <th>min_monthly_rent</th>\n",
       "    </tr>\n",
       "  </thead>\n",
       "  <tbody>\n",
       "    <tr>\n",
       "      <th>11215</th>\n",
       "      <td>Snowmass Village</td>\n",
       "      <td>CO</td>\n",
       "      <td>Pitkin County</td>\n",
       "      <td>3207586.0</td>\n",
       "      <td>19952</td>\n",
       "      <td>16037.93</td>\n",
       "    </tr>\n",
       "    <tr>\n",
       "      <th>5827</th>\n",
       "      <td>Belle Haven</td>\n",
       "      <td>VA</td>\n",
       "      <td>Accomack County</td>\n",
       "      <td>213255.0</td>\n",
       "      <td>3055</td>\n",
       "      <td>2132.55</td>\n",
       "    </tr>\n",
       "    <tr>\n",
       "      <th>1030</th>\n",
       "      <td>Salisbury</td>\n",
       "      <td>NY</td>\n",
       "      <td>Herkimer County</td>\n",
       "      <td>96913.0</td>\n",
       "      <td>3046</td>\n",
       "      <td>969.13</td>\n",
       "    </tr>\n",
       "    <tr>\n",
       "      <th>5738</th>\n",
       "      <td>Northampton</td>\n",
       "      <td>PA</td>\n",
       "      <td>Northampton County</td>\n",
       "      <td>210775.0</td>\n",
       "      <td>2538</td>\n",
       "      <td>2107.75</td>\n",
       "    </tr>\n",
       "    <tr>\n",
       "      <th>540</th>\n",
       "      <td>Rose Hill</td>\n",
       "      <td>VA</td>\n",
       "      <td>Lee County</td>\n",
       "      <td>79915.0</td>\n",
       "      <td>2503</td>\n",
       "      <td>799.15</td>\n",
       "    </tr>\n",
       "    <tr>\n",
       "      <th>...</th>\n",
       "      <td>...</td>\n",
       "      <td>...</td>\n",
       "      <td>...</td>\n",
       "      <td>...</td>\n",
       "      <td>...</td>\n",
       "      <td>...</td>\n",
       "    </tr>\n",
       "    <tr>\n",
       "      <th>3</th>\n",
       "      <td>Flint</td>\n",
       "      <td>MI</td>\n",
       "      <td>Genesee County</td>\n",
       "      <td>24605.0</td>\n",
       "      <td>604</td>\n",
       "      <td>246.05</td>\n",
       "    </tr>\n",
       "    <tr>\n",
       "      <th>29</th>\n",
       "      <td>West End-Cobb Town</td>\n",
       "      <td>AL</td>\n",
       "      <td>Calhoun County</td>\n",
       "      <td>31429.0</td>\n",
       "      <td>603</td>\n",
       "      <td>314.29</td>\n",
       "    </tr>\n",
       "    <tr>\n",
       "      <th>39</th>\n",
       "      <td>Taft</td>\n",
       "      <td>OK</td>\n",
       "      <td>Muskogee County</td>\n",
       "      <td>34677.0</td>\n",
       "      <td>598</td>\n",
       "      <td>346.77</td>\n",
       "    </tr>\n",
       "    <tr>\n",
       "      <th>9</th>\n",
       "      <td>East Conemaugh</td>\n",
       "      <td>PA</td>\n",
       "      <td>Cambria County</td>\n",
       "      <td>29157.0</td>\n",
       "      <td>597</td>\n",
       "      <td>291.57</td>\n",
       "    </tr>\n",
       "    <tr>\n",
       "      <th>13</th>\n",
       "      <td>Johnstown</td>\n",
       "      <td>PA</td>\n",
       "      <td>Cambria County</td>\n",
       "      <td>30934.0</td>\n",
       "      <td>592</td>\n",
       "      <td>309.34</td>\n",
       "    </tr>\n",
       "  </tbody>\n",
       "</table>\n",
       "<p>962 rows × 6 columns</p>\n",
       "</div>"
      ],
      "text/plain": [
       "               RegionName State          CountyName  median_home_price_2020  \\\n",
       "11215    Snowmass Village    CO       Pitkin County               3207586.0   \n",
       "5827          Belle Haven    VA     Accomack County                213255.0   \n",
       "1030            Salisbury    NY     Herkimer County                 96913.0   \n",
       "5738          Northampton    PA  Northampton County                210775.0   \n",
       "540             Rose Hill    VA          Lee County                 79915.0   \n",
       "...                   ...   ...                 ...                     ...   \n",
       "3                   Flint    MI      Genesee County                 24605.0   \n",
       "29     West End-Cobb Town    AL      Calhoun County                 31429.0   \n",
       "39                   Taft    OK     Muskogee County                 34677.0   \n",
       "9          East Conemaugh    PA      Cambria County                 29157.0   \n",
       "13              Johnstown    PA      Cambria County                 30934.0   \n",
       "\n",
       "       median_rental_price_2019  min_monthly_rent  \n",
       "11215                     19952          16037.93  \n",
       "5827                       3055           2132.55  \n",
       "1030                       3046            969.13  \n",
       "5738                       2538           2107.75  \n",
       "540                        2503            799.15  \n",
       "...                         ...               ...  \n",
       "3                           604            246.05  \n",
       "29                          603            314.29  \n",
       "39                          598            346.77  \n",
       "9                           597            291.57  \n",
       "13                          592            309.34  \n",
       "\n",
       "[962 rows x 6 columns]"
      ]
     },
     "execution_count": 163,
     "metadata": {},
     "output_type": "execute_result"
    }
   ],
   "source": [
    "df3[df3['median_rental_price_2019'] > df3['min_monthly_rent']]"
   ]
  },
  {
   "cell_type": "code",
   "execution_count": 164,
   "id": "43117026",
   "metadata": {},
   "outputs": [],
   "source": [
    "df3['profit'] = df3['min_monthly_rent'] - df3['median_rental_price_2019']"
   ]
  },
  {
   "cell_type": "code",
   "execution_count": 165,
   "id": "ea8bf10e",
   "metadata": {},
   "outputs": [],
   "source": [
    "df3['Region'] = [region_name + ', ' + state for region_name, state in zip(df3['RegionName'], df3['State'])] "
   ]
  },
  {
   "cell_type": "code",
   "execution_count": 166,
   "id": "da6a8248",
   "metadata": {},
   "outputs": [
    {
     "data": {
      "text/html": [
       "<div>\n",
       "<style scoped>\n",
       "    .dataframe tbody tr th:only-of-type {\n",
       "        vertical-align: middle;\n",
       "    }\n",
       "\n",
       "    .dataframe tbody tr th {\n",
       "        vertical-align: top;\n",
       "    }\n",
       "\n",
       "    .dataframe thead th {\n",
       "        text-align: right;\n",
       "    }\n",
       "</style>\n",
       "<table border=\"1\" class=\"dataframe\">\n",
       "  <thead>\n",
       "    <tr style=\"text-align: right;\">\n",
       "      <th></th>\n",
       "      <th>RegionName</th>\n",
       "      <th>State</th>\n",
       "      <th>CountyName</th>\n",
       "      <th>median_home_price_2020</th>\n",
       "      <th>median_rental_price_2019</th>\n",
       "      <th>min_monthly_rent</th>\n",
       "      <th>profit</th>\n",
       "      <th>Region</th>\n",
       "    </tr>\n",
       "  </thead>\n",
       "  <tbody>\n",
       "    <tr>\n",
       "      <th>11211</th>\n",
       "      <td>Saratoga</td>\n",
       "      <td>CA</td>\n",
       "      <td>Santa Clara County</td>\n",
       "      <td>2898007.0</td>\n",
       "      <td>6420</td>\n",
       "      <td>28980.07</td>\n",
       "      <td>22560.07</td>\n",
       "      <td>Saratoga, CA</td>\n",
       "    </tr>\n",
       "    <tr>\n",
       "      <th>11212</th>\n",
       "      <td>Medina</td>\n",
       "      <td>WA</td>\n",
       "      <td>King County</td>\n",
       "      <td>2990904.0</td>\n",
       "      <td>8252</td>\n",
       "      <td>29909.04</td>\n",
       "      <td>21657.04</td>\n",
       "      <td>Medina, WA</td>\n",
       "    </tr>\n",
       "    <tr>\n",
       "      <th>11213</th>\n",
       "      <td>Yarrow Point</td>\n",
       "      <td>WA</td>\n",
       "      <td>King County</td>\n",
       "      <td>2991391.0</td>\n",
       "      <td>8475</td>\n",
       "      <td>29913.91</td>\n",
       "      <td>21438.91</td>\n",
       "      <td>Yarrow Point, WA</td>\n",
       "    </tr>\n",
       "    <tr>\n",
       "      <th>11210</th>\n",
       "      <td>Clyde Hill</td>\n",
       "      <td>WA</td>\n",
       "      <td>King County</td>\n",
       "      <td>2846520.0</td>\n",
       "      <td>8114</td>\n",
       "      <td>28465.20</td>\n",
       "      <td>20351.20</td>\n",
       "      <td>Clyde Hill, WA</td>\n",
       "    </tr>\n",
       "    <tr>\n",
       "      <th>11204</th>\n",
       "      <td>Menlo Park</td>\n",
       "      <td>CA</td>\n",
       "      <td>San Mateo County</td>\n",
       "      <td>2577119.0</td>\n",
       "      <td>5860</td>\n",
       "      <td>25771.19</td>\n",
       "      <td>19911.19</td>\n",
       "      <td>Menlo Park, CA</td>\n",
       "    </tr>\n",
       "    <tr>\n",
       "      <th>...</th>\n",
       "      <td>...</td>\n",
       "      <td>...</td>\n",
       "      <td>...</td>\n",
       "      <td>...</td>\n",
       "      <td>...</td>\n",
       "      <td>...</td>\n",
       "      <td>...</td>\n",
       "      <td>...</td>\n",
       "    </tr>\n",
       "    <tr>\n",
       "      <th>744</th>\n",
       "      <td>Calumet</td>\n",
       "      <td>MI</td>\n",
       "      <td>Houghton County</td>\n",
       "      <td>86620.0</td>\n",
       "      <td>865</td>\n",
       "      <td>866.20</td>\n",
       "      <td>1.20</td>\n",
       "      <td>Calumet, MI</td>\n",
       "    </tr>\n",
       "    <tr>\n",
       "      <th>1554</th>\n",
       "      <td>Dublin</td>\n",
       "      <td>TX</td>\n",
       "      <td>Erath County</td>\n",
       "      <td>112187.0</td>\n",
       "      <td>1121</td>\n",
       "      <td>1121.87</td>\n",
       "      <td>0.87</td>\n",
       "      <td>Dublin, TX</td>\n",
       "    </tr>\n",
       "    <tr>\n",
       "      <th>597</th>\n",
       "      <td>Talladega</td>\n",
       "      <td>AL</td>\n",
       "      <td>Talladega County</td>\n",
       "      <td>81967.0</td>\n",
       "      <td>819</td>\n",
       "      <td>819.67</td>\n",
       "      <td>0.67</td>\n",
       "      <td>Talladega, AL</td>\n",
       "    </tr>\n",
       "    <tr>\n",
       "      <th>1538</th>\n",
       "      <td>Marianna</td>\n",
       "      <td>FL</td>\n",
       "      <td>Jackson County</td>\n",
       "      <td>111842.0</td>\n",
       "      <td>1118</td>\n",
       "      <td>1118.42</td>\n",
       "      <td>0.42</td>\n",
       "      <td>Marianna, FL</td>\n",
       "    </tr>\n",
       "    <tr>\n",
       "      <th>784</th>\n",
       "      <td>Luzerne</td>\n",
       "      <td>PA</td>\n",
       "      <td>Luzerne County</td>\n",
       "      <td>88242.0</td>\n",
       "      <td>882</td>\n",
       "      <td>882.42</td>\n",
       "      <td>0.42</td>\n",
       "      <td>Luzerne, PA</td>\n",
       "    </tr>\n",
       "  </tbody>\n",
       "</table>\n",
       "<p>10269 rows × 8 columns</p>\n",
       "</div>"
      ],
      "text/plain": [
       "         RegionName State          CountyName  median_home_price_2020  \\\n",
       "11211      Saratoga    CA  Santa Clara County               2898007.0   \n",
       "11212        Medina    WA         King County               2990904.0   \n",
       "11213  Yarrow Point    WA         King County               2991391.0   \n",
       "11210    Clyde Hill    WA         King County               2846520.0   \n",
       "11204    Menlo Park    CA    San Mateo County               2577119.0   \n",
       "...             ...   ...                 ...                     ...   \n",
       "744         Calumet    MI     Houghton County                 86620.0   \n",
       "1554         Dublin    TX        Erath County                112187.0   \n",
       "597       Talladega    AL    Talladega County                 81967.0   \n",
       "1538       Marianna    FL      Jackson County                111842.0   \n",
       "784         Luzerne    PA      Luzerne County                 88242.0   \n",
       "\n",
       "       median_rental_price_2019  min_monthly_rent    profit            Region  \n",
       "11211                      6420          28980.07  22560.07      Saratoga, CA  \n",
       "11212                      8252          29909.04  21657.04        Medina, WA  \n",
       "11213                      8475          29913.91  21438.91  Yarrow Point, WA  \n",
       "11210                      8114          28465.20  20351.20    Clyde Hill, WA  \n",
       "11204                      5860          25771.19  19911.19    Menlo Park, CA  \n",
       "...                         ...               ...       ...               ...  \n",
       "744                         865            866.20      1.20       Calumet, MI  \n",
       "1554                       1121           1121.87      0.87        Dublin, TX  \n",
       "597                         819            819.67      0.67     Talladega, AL  \n",
       "1538                       1118           1118.42      0.42      Marianna, FL  \n",
       "784                         882            882.42      0.42       Luzerne, PA  \n",
       "\n",
       "[10269 rows x 8 columns]"
      ]
     },
     "execution_count": 166,
     "metadata": {},
     "output_type": "execute_result"
    }
   ],
   "source": [
    "df3[df3.profit > 0].sort_values('profit', ascending=False)"
   ]
  },
  {
   "cell_type": "code",
   "execution_count": 191,
   "id": "f879a436",
   "metadata": {},
   "outputs": [
    {
     "data": {
      "text/plain": [
       "median_home_price_2020      3.115650e+06\n",
       "median_rental_price_2019    8.058200e+03\n",
       "min_monthly_rent            2.782501e+04\n",
       "profit                      1.976681e+04\n",
       "monthly_Mortgage_payment    1.399066e+04\n",
       "Montly_Mortgate_Profit      9.932459e+03\n",
       "dtype: float64"
      ]
     },
     "execution_count": 191,
     "metadata": {},
     "output_type": "execute_result"
    }
   ],
   "source": [
    "df3[df3.profit > 0].sort_values('profit', ascending=False).head(10).mean()"
   ]
  },
  {
   "cell_type": "code",
   "execution_count": 183,
   "id": "db914d8a",
   "metadata": {},
   "outputs": [
    {
     "data": {
      "text/plain": [
       "Text(0, 0.5, 'Profit')"
      ]
     },
     "execution_count": 183,
     "metadata": {},
     "output_type": "execute_result"
    },
    {
     "data": {
      "image/png": "[encoded data removed]",
      "text/plain": [
       "<Figure size 432x288 with 1 Axes>"
      ]
     },
     "metadata": {},
     "output_type": "display_data"
    }
   ],
   "source": [
    "df3[df3.profit > 0].sort_values('profit', ascending=False).head(10).plot(kind='bar', x='Region', y='profit',color=['C0', 'C1', 'C2', 'C3', 'C4','b','g','y','k','C5'])\n",
    "plt.title(\"Top 10 cities with highest investment return\")\n",
    "plt.xlabel(\"Cities\")\n",
    "plt.ylabel(\"Profit\")"
   ]
  },
  {
   "cell_type": "code",
   "execution_count": 195,
   "id": "64465898",
   "metadata": {},
   "outputs": [
    {
     "data": {
      "text/plain": [
       "2437.938"
      ]
     },
     "execution_count": 195,
     "metadata": {},
     "output_type": "execute_result"
    }
   ],
   "source": [
    "df3.groupby(['State'])['profit'].median().sort_values(ascending = False).head(10).mean()"
   ]
  },
  {
   "cell_type": "code",
   "execution_count": 181,
   "id": "8c8a2421",
   "metadata": {
    "scrolled": true
   },
   "outputs": [
    {
     "data": {
      "text/plain": [
       "Text(0, 0.5, 'Profit')"
      ]
     },
     "execution_count": 181,
     "metadata": {},
     "output_type": "execute_result"
    },
    {
     "data": {
      "image/png": "[encoded data removed]",
      "text/plain": [
       "<Figure size 432x288 with 1 Axes>"
      ]
     },
     "metadata": {},
     "output_type": "display_data"
    }
   ],
   "source": [
    "df3.groupby(['State'])['profit'].median().sort_values(ascending = False).head(10).plot(kind='bar', x='State', y='profit',color=['C0', 'C1', 'C2', 'C3', 'C4','b',  'g', 'y', 'k'])\n",
    "plt.title(\"Top 10 states with highest investment return\")\n",
    "plt.xlabel(\"States\")\n",
    "plt.ylabel(\"Profit\")"
   ]
  },
  {
   "cell_type": "code",
   "execution_count": 196,
   "id": "79f51685",
   "metadata": {},
   "outputs": [
    {
     "data": {
      "text/plain": [
       "median_home_price_2020      368205.622000\n",
       "median_rental_price_2019      2040.104000\n",
       "min_monthly_rent              3682.056220\n",
       "profit                        1641.952220\n",
       "monthly_Mortgage_payment      1653.407786\n",
       "Montly_Mortgate_Profit        3613.303786\n",
       "dtype: float64"
      ]
     },
     "execution_count": 196,
     "metadata": {},
     "output_type": "execute_result"
    }
   ],
   "source": [
    "df3[df3.median_home_price_2020 < 500000].groupby('State').head(10).sort_values('profit', ascending=False).mean()"
   ]
  },
  {
   "cell_type": "code",
   "execution_count": 180,
   "id": "4598eb77",
   "metadata": {
    "scrolled": true
   },
   "outputs": [
    {
     "data": {
      "text/plain": [
       "Text(0, 0.5, 'Profit')"
      ]
     },
     "execution_count": 180,
     "metadata": {},
     "output_type": "execute_result"
    },
    {
     "data": {
      "image/png": "[encoded data removed]",
      "text/plain": [
       "<Figure size 432x288 with 1 Axes>"
      ]
     },
     "metadata": {},
     "output_type": "display_data"
    }
   ],
   "source": [
    "df3[df3.median_home_price_2020 < 500000].groupby('State').head(10).sort_values('profit', ascending=False).head(10).plot(kind = 'bar',x='Region', y='profit',color=['C0', 'C1', 'C2', 'C3', 'C4','b','g','y','k','C5'])\n",
    "plt.title(\"Top 10 cities with highest investment return, homes less than 500k\")\n",
    "plt.xlabel(\"Cities\")\n",
    "plt.ylabel(\"Profit\")"
   ]
  },
  {
   "cell_type": "code",
   "execution_count": 170,
   "id": "ed41bfe0",
   "metadata": {},
   "outputs": [],
   "source": [
    "interest = 0.035 / 12               \n",
    "thirty_year = 30 * 12 \n",
    "fifteen_year = 15 * 12 \n",
    "price = 737939.0  "
   ]
  },
  {
   "cell_type": "code",
   "execution_count": 171,
   "id": "bfc8e7bf",
   "metadata": {},
   "outputs": [],
   "source": [
    "def MortgagePayment (p,i,n):\n",
    "    return p*(i*(1 + i)**n)/((1 + i)**n-1)"
   ]
  },
  {
   "cell_type": "code",
   "execution_count": 201,
   "id": "12ad3a6a",
   "metadata": {},
   "outputs": [
    {
     "data": {
      "text/plain": [
       "13471.340634264703"
      ]
     },
     "execution_count": 201,
     "metadata": {},
     "output_type": "execute_result"
    }
   ],
   "source": [
    "MortgagePayment(3000000,interest,thirty_year)"
   ]
  },
  {
   "cell_type": "code",
   "execution_count": 202,
   "id": "5033aa30",
   "metadata": {},
   "outputs": [
    {
     "data": {
      "text/plain": [
       "15000.0"
      ]
     },
     "execution_count": 202,
     "metadata": {},
     "output_type": "execute_result"
    }
   ],
   "source": [
    ".005 * 3000000\n"
   ]
  },
  {
   "cell_type": "code",
   "execution_count": 172,
   "id": "4f6f36db",
   "metadata": {},
   "outputs": [],
   "source": [
    "price = df3['median_home_price_2020']"
   ]
  },
  {
   "cell_type": "code",
   "execution_count": 173,
   "id": "16c04622",
   "metadata": {},
   "outputs": [],
   "source": [
    "df3['monthly_Mortgage_payment'] = MortgagePayment(price, interest, thirty_year)"
   ]
  },
  {
   "cell_type": "code",
   "execution_count": 174,
   "id": "3af1cc6b",
   "metadata": {},
   "outputs": [],
   "source": [
    "df3['Montly_Mortgate_Profit'] = df3.monthly_Mortgage_payment - df3.median_rental_price_2019 + 4000"
   ]
  },
  {
   "cell_type": "code",
   "execution_count": 197,
   "id": "b8111309",
   "metadata": {},
   "outputs": [
    {
     "data": {
      "text/plain": [
       "4064.7097020749156"
      ]
     },
     "execution_count": 197,
     "metadata": {},
     "output_type": "execute_result"
    }
   ],
   "source": [
    "df3.groupby(['State'])['Montly_Mortgate_Profit'].median().sort_values(ascending = False).head(10).mean()"
   ]
  },
  {
   "cell_type": "code",
   "execution_count": 177,
   "id": "ddbe07db",
   "metadata": {
    "scrolled": true
   },
   "outputs": [
    {
     "data": {
      "text/plain": [
       "Text(0, 0.5, 'Profit')"
      ]
     },
     "execution_count": 177,
     "metadata": {},
     "output_type": "execute_result"
    },
    {
     "data": {
      "image/png": "[encoded data removed]",
      "text/plain": [
       "<Figure size 432x288 with 1 Axes>"
      ]
     },
     "metadata": {},
     "output_type": "display_data"
    }
   ],
   "source": [
    "df3.groupby(['State'])['Montly_Mortgate_Profit'].median().sort_values(ascending = False).head(10).plot(kind='bar', x='State', y='profit',color=['C0', 'C1', 'C2', 'C3', 'C4','b',  'g', 'y', 'k'])\n",
    "plt.title(\"Top 10 states with highest investment return based on Mortgage Rates\")\n",
    "plt.xlabel(\"States\")\n",
    "plt.ylabel(\"Profit\")"
   ]
  },
  {
   "cell_type": "code",
   "execution_count": 198,
   "id": "1f9d2e86",
   "metadata": {},
   "outputs": [
    {
     "data": {
      "text/plain": [
       "12595.321640803257"
      ]
     },
     "execution_count": 198,
     "metadata": {},
     "output_type": "execute_result"
    }
   ],
   "source": [
    "df3.groupby(['Region'])['Montly_Mortgate_Profit'].median().sort_values(ascending = False).head(10).mean()"
   ]
  },
  {
   "cell_type": "code",
   "execution_count": 184,
   "id": "f6f2aeca",
   "metadata": {
    "scrolled": true
   },
   "outputs": [
    {
     "data": {
      "text/plain": [
       "Text(0, 0.5, 'Profit')"
      ]
     },
     "execution_count": 184,
     "metadata": {},
     "output_type": "execute_result"
    },
    {
     "data": {
      "image/png": "[encoded data removed]",
      "text/plain": [
       "<Figure size 432x288 with 1 Axes>"
      ]
     },
     "metadata": {},
     "output_type": "display_data"
    }
   ],
   "source": [
    "df3.groupby(['Region'])['Montly_Mortgate_Profit'].median().sort_values(ascending = False).head(10).plot(kind='bar', x='State', y='profit',color=['C0', 'C1', 'C2', 'C3', 'C4','b',  'g', 'y', 'k'])\n",
    "plt.title(\"Top 10 cities with highest investment return based on Mortgage Rates\")\n",
    "plt.xlabel(\"cities\")\n",
    "plt.ylabel(\"Profit\")"
   ]
  },
  {
   "cell_type": "code",
   "execution_count": null,
   "id": "97ea6f2f",
   "metadata": {},
   "outputs": [],
   "source": []
  }
 ],
 "metadata": {
  "kernelspec": {
   "display_name": "Python 3",
   "language": "python",
   "name": "python3"
  },
  "language_info": {
   "codemirror_mode": {
    "name": "ipython",
    "version": 3
   },
   "file_extension": ".py",
   "mimetype": "text/x-python",
   "name": "python",
   "nbconvert_exporter": "python",
   "pygments_lexer": "ipython3",
   "version": "3.8.8"
  }
 },
 "nbformat": 4,
 "nbformat_minor": 5
}
